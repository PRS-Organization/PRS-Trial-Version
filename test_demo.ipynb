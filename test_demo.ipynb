{
 "cells": [
  {
   "cell_type": "code",
   "execution_count": null,
   "id": "417071ec",
   "metadata": {},
   "outputs": [
    {
     "name": "stdout",
     "output_type": "stream",
     "text": [
      "pygame 2.5.2 (SDL 2.28.3, Python 3.11.5)\n",
      "Hello from the pygame community. https://www.pygame.org/contribute.html\n",
      "PRS environment beta is starting without interaction\n",
      "Please open the Unity program (start.sh)\n",
      "PRS challenge task and benchmark come soon!\n"
     ]
    }
   ],
   "source": [
    "from socket_server import *\n",
    "# Environment initialization\n",
    "prs = PrsEnv(is_print=0, not_test_mode=0)"
   ]
  },
  {
   "cell_type": "code",
   "execution_count": null,
   "id": "19a9dd9f",
   "metadata": {},
   "outputs": [],
   "source": [
    "# npc behavior\n",
    "prs.npc_start(5)"
   ]
  },
  {
   "cell_type": "code",
   "execution_count": null,
   "id": "7d358a1a",
   "metadata": {},
   "outputs": [],
   "source": [
    "# action sequence of robot\n"
   ]
  },
  {
   "cell_type": "code",
   "execution_count": null,
   "id": "d2f268f3",
   "metadata": {},
   "outputs": [],
   "source": [
    "prs.finish_env()"
   ]
  },
  {
   "cell_type": "code",
   "execution_count": null,
   "id": "bed19f72",
   "metadata": {},
   "outputs": [],
   "source": []
  }
 ],
 "metadata": {
  "kernelspec": {
   "display_name": "Python 3 (ipykernel)",
   "language": "python",
   "name": "python3"
  },
  "language_info": {
   "codemirror_mode": {
    "name": "ipython",
    "version": 3
   },
   "file_extension": ".py",
   "mimetype": "text/x-python",
   "name": "python",
   "nbconvert_exporter": "python",
   "pygments_lexer": "ipython3",
   "version": "3.11.5"
  }
 },
 "nbformat": 4,
 "nbformat_minor": 5
}
